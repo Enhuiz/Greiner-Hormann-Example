{
 "cells": [
  {
   "cell_type": "code",
   "execution_count": 119,
   "metadata": {},
   "outputs": [
    {
     "data": {
      "image/png": "[encoded data removed]",
      "text/plain": [
       "<matplotlib.figure.Figure at 0x28d2a316e48>"
      ]
     },
     "metadata": {},
     "output_type": "display_data"
    }
   ],
   "source": [
    "import matplotlib.pyplot as plt\n",
    "\n",
    "% matplotlib inline\n",
    "\n",
    "def show_polygons(ax, polygons, face_color='white', alpha=1):\n",
    "    from matplotlib.patches import Polygon, Circle\n",
    "    patches = []\n",
    "\n",
    "    if isinstance(face_color, list):\n",
    "        def get_face_color():\n",
    "            np.random.shuffle(face_color)\n",
    "            return face_color[0]\n",
    "    else:\n",
    "        def get_face_color():\n",
    "            return face_color\n",
    "\n",
    "    for vertices in polygons:\n",
    "        polygon = Polygon(\n",
    "            vertices,\n",
    "            alpha=alpha, \n",
    "            ec='black',\n",
    "            fc=get_face_color(),\n",
    "            lw=1.5)\n",
    "        patches.append(polygon)\n",
    "        for vertex in vertices:\n",
    "            circle = Circle(vertex, 0.04)\n",
    "            patches.append(circle)\n",
    "\n",
    "    for patch in patches:\n",
    "        ax.add_patch(patch)\n",
    "\n",
    "    ax.autoscale()\n",
    "    ax.set_aspect('equal')\n",
    "\n",
    "fig, ax = plt.subplots()\n",
    "s = [[0, 0], [1, 0], [1, 1], [0, 1], [0.2, 0.5], [2, 1]]\n",
    "c = [[0.5, 2], [2, 0], [0.5, 0.4], [2, 3]]\n",
    "show_polygons(ax, [s], 'green', 0.5)\n",
    "show_polygons(ax, [c], 'blue', 0.5)"
   ]
  },
  {
   "cell_type": "code",
   "execution_count": 121,
   "metadata": {},
   "outputs": [
    {
     "data": {
      "image/png": "[encoded data removed]",
      "text/plain": [
       "<matplotlib.figure.Figure at 0x28d2a32bcc0>"
      ]
     },
     "metadata": {},
     "output_type": "display_data"
    }
   ],
   "source": [
    "import numpy as np \n",
    "import copy\n",
    "\n",
    "def to_gh_point(x, y):\n",
    "    return {'x': x, 'y': y}\n",
    "\n",
    "def to_gh_polygon(poly):\n",
    "    first = None\n",
    "    current = first\n",
    "    for x, y in poly:\n",
    "        if first is None:\n",
    "            current = first = to_gh_point(x, y)\n",
    "            first['first'] = True\n",
    "        else:\n",
    "            current['next'] = to_gh_point(x, y)\n",
    "            current = current['next']\n",
    "    current['next'] = first\n",
    "    return first\n",
    "\n",
    "def intersect(p1, p2, q1, q2):\n",
    "    p1, p2, q1, q2 = map(np.array, [p1, p2, q1, q2])\n",
    "    wec_p1 = np.cross(p1 - q1, q2 - q1)\n",
    "    wec_p2 = np.cross(p2 - q1, q2 - q1)\n",
    "    if wec_p1 * wec_p2 < 0:\n",
    "        wec_q1 = np.cross(q1 - p1, p2 - p1)\n",
    "        wec_q2 = np.cross(q2 - p1, p2 - p1)\n",
    "        if wec_q1 * wec_q2 < 0:\n",
    "            p_alpha = wec_p1 / (wec_p1 - wec_p2)\n",
    "            q_alpha = wec_q1 / (wec_q1 - wec_q2)\n",
    "            return True, p_alpha, q_alpha\n",
    "    return False, None, None\n",
    "\n",
    "def gh_polygon_iter(poly):\n",
    "    while True:\n",
    "        yield poly\n",
    "        poly = poly['next']\n",
    "        if 'first' in poly:\n",
    "            yield poly\n",
    "            break\n",
    "                        \n",
    "def gh_polygon_iter_point(poly):\n",
    "    return map(lambda v: (v['x'], v['y']), gh_polygon_iter(poly))\n",
    "        \n",
    "def create_vertex(p1, p2, alpha):\n",
    "    p1, p2 = map(np.array, [p1, p2])\n",
    "    x, y = p1 + (p2 - p1) * alpha\n",
    "    return to_gh_point(x, y)\n",
    "\n",
    "def gh_polygon_to_points(gh):\n",
    "    return list(gh_polygon_iter_point(gh))\n",
    "\n",
    "def phase_one(s, c):\n",
    "    s = copy.deepcopy(s)\n",
    "    c = copy.deepcopy(c)\n",
    "    cur_s = s\n",
    "    cur_c = c\n",
    "    for cur_s in gh_polygon_iter(s):\n",
    "        for cur_c in gh_polygon_iter(c):\n",
    "            p1, p2 = map(lambda v: (v['x'], v['y']), [cur_s, cur_s['next']])\n",
    "            q1, q2 = map(lambda v: (v['x'], v['y']), [cur_c, cur_c['next']])\n",
    "            b, p_alpha, q_alpha = intersect(p1, p2, q1, q2)\n",
    "            if b:\n",
    "                si = create_vertex(p1, p2, p_alpha)\n",
    "                ci = create_vertex(q1, q2, q_alpha)\n",
    "                si['neighbor'] = ci\n",
    "                ci['neighbor'] = si\n",
    "                si['next'] = cur_s['next']\n",
    "                cur_s['next'] = si\n",
    "                ci['next'] = cur_c['next']\n",
    "                cur_c['next'] = ci\n",
    "    return s, c\n",
    "\n",
    "gh_s = to_gh_polygon(a)\n",
    "gh_c = to_gh_polygon(b)\n",
    "\n",
    "gh_s1, gh_c1 = phase_one(gh_s, gh_c)\n",
    "\n",
    "fig, ax = plt.subplots()\n",
    "show_polygons(ax, map(get_xys, [gh_s1, gh_c1]), 'green', 0.2)"
   ]
  },
  {
   "cell_type": "code",
   "execution_count": 122,
   "metadata": {},
   "outputs": [
    {
     "data": {
      "image/png": "[encoded data removed]",
      "text/plain": [
       "<matplotlib.figure.Figure at 0x28d2a28c978>"
      ]
     },
     "metadata": {},
     "output_type": "display_data"
    }
   ],
   "source": [
    "def is_left(a, b, p):\n",
    "    a, b, p = map(np.array, (a, b, p))\n",
    "    return np.cross(b - a, p - a) > 0\n",
    "\n",
    "def winding_number(p, poly):\n",
    "    wn = 0\n",
    "    ps = gh_polygon_to_points(poly)\n",
    "    for v1, v2 in zip(ps[:-1], ps[1:]):\n",
    "        if v1[1] <= p[1]:\n",
    "            if v2[1] > p[1] and is_left(v1, v2, p): # upward crossing and left\n",
    "                wn += 1\n",
    "        elif v2[1] <= p[1] and not is_left(v1, v2, p):\n",
    "            wn -= 1\n",
    "    return wn\n",
    "\n",
    "def inside(p, poly):\n",
    "    return winding_number(p, poly) % 2 != 0\n",
    "\n",
    "\n",
    "def plot_inside(ax, gh_polygon, color='blue', alpha=0.5):\n",
    "    ps = []\n",
    "    for i in np.linspace(0, 3, 100):\n",
    "        for j in np.linspace(0, 3, 100):\n",
    "            if inside([i, j], gh_polygon):\n",
    "                ps.append([i, j])\n",
    "    ax.scatter(*zip(*ps), color=color, alpha=alpha, marker='s')\n",
    "    ax.set_aspect('equal')\n",
    "\n",
    "fig, ax = plt.subplots(figsize=(10, 10))\n",
    "plot_inside(ax, gh_c, 'red')\n",
    "plot_inside(ax, gh_s, 'green')"
   ]
  },
  {
   "cell_type": "code",
   "execution_count": 125,
   "metadata": {},
   "outputs": [],
   "source": [
    "def assign_status(a, b):\n",
    "    '''\n",
    "    assign a according to b\n",
    "    '''\n",
    "    def toggle(status):\n",
    "        if status == 'exit':\n",
    "            return 'entry'\n",
    "        return 'exit'\n",
    "    p0 = a['x'], a['y']\n",
    "    if inside(p0, b):\n",
    "        status = 'exit'\n",
    "    else:\n",
    "        status = 'entry'\n",
    "    for v in gh_polygon_iter(a):\n",
    "        if 'neighbor' in v:\n",
    "            v['status'] = status\n",
    "            status = toggle(status)\n",
    "\n",
    "def phase_two(s, c):\n",
    "    s = copy.deepcopy(s)\n",
    "    c = copy.deepcopy(c)\n",
    "    assign_status(s, c)\n",
    "    assign_status(c, s)\n",
    "    return s, c\n",
    "\n",
    "gh_s2, gh_c2 = phase_two(gh_s1, gh_c1)"
   ]
  }
 ],
 "metadata": {
  "kernelspec": {
   "display_name": "Python 3",
   "language": "python",
   "name": "python3"
  },
  "language_info": {
   "codemirror_mode": {
    "name": "ipython",
    "version": 3
   },
   "file_extension": ".py",
   "mimetype": "text/x-python",
   "name": "python",
   "nbconvert_exporter": "python",
   "pygments_lexer": "ipython3",
   "version": "3.6.1"
  }
 },
 "nbformat": 4,
 "nbformat_minor": 2
}
